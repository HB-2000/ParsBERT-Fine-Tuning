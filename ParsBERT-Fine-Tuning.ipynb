{
 "cells": [
  {
   "cell_type": "code",
   "execution_count": null,
   "id": "initial_id",
   "metadata": {
    "collapsed": true
   },
   "outputs": [],
   "source": "!pip install transformers torch datasets"
  },
  {
   "metadata": {},
   "cell_type": "code",
   "outputs": [],
   "execution_count": null,
   "source": [
    "from transformers import BertTokenizer, BertForMaskedLM, Trainer, TrainingArguments\n",
    "import torch\n",
    "from datasets import load_dataset, Dataset"
   ],
   "id": "d8c1320abe50a845"
  },
  {
   "metadata": {},
   "cell_type": "code",
   "outputs": [],
   "execution_count": null,
   "source": [
    "model_name = \"HooshvareLab/bert-fa-base-uncased\"\n",
    "tokenizer = BertTokenizer.from_pretrained(model_name)\n",
    "model = BertForMaskedLM.from_pretrained(model_name)\n"
   ],
   "id": "c02bde6373a8ca3c"
  },
  {
   "metadata": {},
   "cell_type": "code",
   "outputs": [],
   "execution_count": null,
   "source": [
    "from google.colab import drive\n",
    "drive.mount('/content/drive')"
   ],
   "id": "fba60a252dba93a8"
  },
  {
   "metadata": {},
   "cell_type": "code",
   "outputs": [],
   "execution_count": null,
   "source": [
    "import pandas as pd\n",
    "\n",
    "src_path = \"/content/drive/My Drive/MT/shams.txt\"\n",
    "\n",
    "# Load your dataset\n",
    "with open(src_path, 'r', encoding='utf-8') as f:\n",
    "    texts = f.readlines()\n",
    "\n",
    "# Create a DataFrame\n",
    "df = pd.DataFrame({'text': texts})\n",
    "\n",
    "# Convert the DataFrame to a Hugging Face Dataset\n",
    "dataset = Dataset.from_pandas(df)\n"
   ],
   "id": "30ecb860fe79ae8d"
  },
  {
   "metadata": {},
   "cell_type": "code",
   "outputs": [],
   "execution_count": null,
   "source": [
    "def tokenize_function(examples):\n",
    "    return tokenizer(examples[\"text\"], padding=\"max_length\", truncation=True, max_length=128)\n"
   ],
   "id": "60d5c0457d6f6647"
  },
  {
   "metadata": {},
   "cell_type": "code",
   "outputs": [],
   "execution_count": null,
   "source": "tokenized_datasets = dataset.map(tokenize_function, batched=True)",
   "id": "7b3edf15231200b5"
  },
  {
   "metadata": {},
   "cell_type": "code",
   "outputs": [],
   "execution_count": null,
   "source": [
    "from transformers import DataCollatorForLanguageModeling\n",
    "\n",
    "data_collator = DataCollatorForLanguageModeling(\n",
    "    tokenizer=tokenizer, mlm=True, mlm_probability=0.15\n",
    ")"
   ],
   "id": "fee5f43ce33ad424"
  },
  {
   "metadata": {},
   "cell_type": "code",
   "outputs": [],
   "execution_count": null,
   "source": [
    "training_args = TrainingArguments(\n",
    "    output_dir=\"./results\",\n",
    "    overwrite_output_dir=True,\n",
    "    num_train_epochs=20,\n",
    "    per_device_train_batch_size=40,\n",
    "    save_steps=10_000,\n",
    "    save_total_limit=2,\n",
    ")\n",
    "\n",
    "trainer = Trainer(\n",
    "    model=model,\n",
    "    args=training_args,\n",
    "    data_collator=data_collator,\n",
    "    train_dataset=tokenized_datasets,\n",
    ")\n",
    "\n",
    "trainer.train()\n"
   ],
   "id": "b53a73fecbaae9d3"
  },
  {
   "metadata": {},
   "cell_type": "code",
   "outputs": [],
   "execution_count": null,
   "source": [
    "model.save_pretrained(\"/content/drive/My Drive/MT/fine-tuned-bert-fa\")\n",
    "tokenizer.save_pretrained(\"/content/drive/My Drive/MT/fine-tuned-bert-fa\")"
   ],
   "id": "4fcf7d98f771c86a"
  },
  {
   "metadata": {},
   "cell_type": "code",
   "outputs": [],
   "execution_count": null,
   "source": [
    "from transformers import BertTokenizer, BertForMaskedLM\n",
    "import torch\n",
    "\n",
    "# Load your fine-tuned model\n",
    "fine_tuned_model_path = \"/content/drive/My Drive/MT/fine-tuned-bert-fa\"\n",
    "fine_tuned_tokenizer = BertTokenizer.from_pretrained(fine_tuned_model_path)\n",
    "fine_tuned_model = BertForMaskedLM.from_pretrained(fine_tuned_model_path)\n",
    "\n",
    "# Load the original ParsBERT model\n",
    "parsbert_model_name = \"HooshvareLab/bert-base-parsbert-uncased\"\n",
    "parsbert_tokenizer = BertTokenizer.from_pretrained(parsbert_model_name)\n",
    "parsbert_model = BertForMaskedLM.from_pretrained(parsbert_model_name)\n",
    "\n"
   ],
   "id": "84b9015e01eddd35"
  },
  {
   "metadata": {},
   "cell_type": "code",
   "outputs": [],
   "execution_count": null,
   "source": [
    "# Example Farsi sentence with a masked token\n",
    "masked_sentence = \"من [MASK] هستم\"\n",
    "\n",
    "# Tokenize with the fine-tuned tokenizer\n",
    "fine_tuned_inputs = fine_tuned_tokenizer(masked_sentence, return_tensors=\"pt\")\n",
    "\n",
    "# Predict the masked word with the fine-tuned model\n",
    "with torch.no_grad():\n",
    "    fine_tuned_outputs = fine_tuned_model(**fine_tuned_inputs)\n",
    "    fine_tuned_predictions = fine_tuned_outputs.logits\n",
    "\n",
    "# Get the index of the masked token\n",
    "mask_token_index = torch.where(fine_tuned_inputs[\"input_ids\"] == fine_tuned_tokenizer.mask_token_id)[1]\n",
    "\n",
    "# Get the logits for the masked token\n",
    "fine_tuned_mask_token_logits = fine_tuned_predictions[0, mask_token_index, :]\n",
    "\n",
    "# Get the top 15 predictions for the fine-tuned model\n",
    "fine_tuned_top_15_tokens = torch.topk(fine_tuned_mask_token_logits, 15, dim=1).indices[0].tolist()\n",
    "\n",
    "print(\"Fine-tuned Model Predictions:\")\n",
    "for token in fine_tuned_top_15_tokens:\n",
    "    print(f\"Predicted token: {fine_tuned_tokenizer.decode([token])}\")\n",
    "\n",
    "# Tokenize with the ParsBERT tokenizer\n",
    "parsbert_inputs = parsbert_tokenizer(masked_sentence, return_tensors=\"pt\")\n",
    "\n",
    "# Predict the masked word with the ParsBERT model\n",
    "with torch.no_grad():\n",
    "    parsbert_outputs = parsbert_model(**parsbert_inputs)\n",
    "    parsbert_predictions = parsbert_outputs.logits\n",
    "\n",
    "# Get the logits for the masked token\n",
    "parsbert_mask_token_logits = parsbert_predictions[0, mask_token_index, :]\n",
    "\n",
    "# Get the top 15 predictions for the ParsBERT model\n",
    "parsbert_top_15_tokens = torch.topk(parsbert_mask_token_logits, 15, dim=1).indices[0].tolist()\n",
    "\n",
    "print(\"\\nParsBERT Model Predictions:\")\n",
    "for token in parsbert_top_15_tokens:\n",
    "    print(f\"Predicted token: {parsbert_tokenizer.decode([token])}\")\n"
   ],
   "id": "bf40d985913fa7c6"
  }
 ],
 "metadata": {
  "kernelspec": {
   "display_name": "Python 3",
   "language": "python",
   "name": "python3"
  },
  "language_info": {
   "codemirror_mode": {
    "name": "ipython",
    "version": 2
   },
   "file_extension": ".py",
   "mimetype": "text/x-python",
   "name": "python",
   "nbconvert_exporter": "python",
   "pygments_lexer": "ipython2",
   "version": "2.7.6"
  }
 },
 "nbformat": 4,
 "nbformat_minor": 5
}
